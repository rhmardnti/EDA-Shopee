{
 "cells": [
  {
   "cell_type": "code",
   "execution_count": 7,
   "metadata": {},
   "outputs": [],
   "source": [
    "import numpy as np\n",
    "import pandas as pd\n",
    "import matplotlib.pyplot as plt\n",
    "import seaborn as sns\n",
    "import warnings"
   ]
  },
  {
   "cell_type": "code",
   "execution_count": 8,
   "metadata": {},
   "outputs": [],
   "source": [
    "%matplotlib inline\n",
    "warnings.filterwarnings('ignore')\n",
    "sns.set_style('darkgrid')"
   ]
  },
  {
   "cell_type": "code",
   "execution_count": 18,
   "metadata": {},
   "outputs": [],
   "source": [
    "df = pd.read_excel('E:\\BACK UP DATA C 2022\\DOWNLOADS\\PMMB BRI/hasil_.xlsx')"
   ]
  },
  {
   "cell_type": "code",
   "execution_count": 19,
   "metadata": {},
   "outputs": [
    {
     "data": {
      "text/html": [
       "<div>\n",
       "<style scoped>\n",
       "    .dataframe tbody tr th:only-of-type {\n",
       "        vertical-align: middle;\n",
       "    }\n",
       "\n",
       "    .dataframe tbody tr th {\n",
       "        vertical-align: top;\n",
       "    }\n",
       "\n",
       "    .dataframe thead th {\n",
       "        text-align: right;\n",
       "    }\n",
       "</style>\n",
       "<table border=\"1\" class=\"dataframe\">\n",
       "  <thead>\n",
       "    <tr style=\"text-align: right;\">\n",
       "      <th></th>\n",
       "      <th>username_toko</th>\n",
       "      <th>nama_toko</th>\n",
       "      <th>lokasi_toko</th>\n",
       "      <th>jumlah_produk</th>\n",
       "      <th>range_produk</th>\n",
       "      <th>rating</th>\n",
       "      <th>performa_chat(%)</th>\n",
       "      <th>range_chat</th>\n",
       "      <th>waktu_chat</th>\n",
       "      <th>follower</th>\n",
       "      <th>...</th>\n",
       "      <th>status_official</th>\n",
       "      <th>join_time</th>\n",
       "      <th>join_date</th>\n",
       "      <th>join_days</th>\n",
       "      <th>join_month</th>\n",
       "      <th>join_year</th>\n",
       "      <th>range_join</th>\n",
       "      <th>url_toko</th>\n",
       "      <th>Badge</th>\n",
       "      <th>Label_badge</th>\n",
       "    </tr>\n",
       "  </thead>\n",
       "  <tbody>\n",
       "    <tr>\n",
       "      <th>0</th>\n",
       "      <td>kissmiss27</td>\n",
       "      <td>Kissmiss</td>\n",
       "      <td>KOTA MALANG</td>\n",
       "      <td>91</td>\n",
       "      <td>&lt;500 produk</td>\n",
       "      <td>4.8</td>\n",
       "      <td>97.0</td>\n",
       "      <td>91%-100%</td>\n",
       "      <td>3828.0</td>\n",
       "      <td>1840</td>\n",
       "      <td>...</td>\n",
       "      <td>False</td>\n",
       "      <td>1524697846</td>\n",
       "      <td>2018-04-25 23:10:46</td>\n",
       "      <td>1553</td>\n",
       "      <td>51.766667</td>\n",
       "      <td>4.313889</td>\n",
       "      <td>2-5 tahun</td>\n",
       "      <td>https://shopee.co.id/kissmiss27</td>\n",
       "      <td>Star Seller</td>\n",
       "      <td>2</td>\n",
       "    </tr>\n",
       "    <tr>\n",
       "      <th>1</th>\n",
       "      <td>hehengplus.id</td>\n",
       "      <td>@Nova's Store</td>\n",
       "      <td>Luar Negeri</td>\n",
       "      <td>860</td>\n",
       "      <td>501-1000 produk</td>\n",
       "      <td>4.8</td>\n",
       "      <td>95.0</td>\n",
       "      <td>91%-100%</td>\n",
       "      <td>1654.0</td>\n",
       "      <td>20048</td>\n",
       "      <td>...</td>\n",
       "      <td>False</td>\n",
       "      <td>1528293009</td>\n",
       "      <td>2018-06-06 13:50:09</td>\n",
       "      <td>1511</td>\n",
       "      <td>50.366667</td>\n",
       "      <td>4.197222</td>\n",
       "      <td>2-5 tahun</td>\n",
       "      <td>https://shopee.co.id/hehengplus.id</td>\n",
       "      <td>Star Seller</td>\n",
       "      <td>2</td>\n",
       "    </tr>\n",
       "    <tr>\n",
       "      <th>2</th>\n",
       "      <td>nymnputriayu</td>\n",
       "      <td>@rayubeauty.id</td>\n",
       "      <td>KOTA DENPASAR</td>\n",
       "      <td>17</td>\n",
       "      <td>&lt;500 produk</td>\n",
       "      <td>4.8</td>\n",
       "      <td>5.0</td>\n",
       "      <td>&lt;10%</td>\n",
       "      <td>10640.0</td>\n",
       "      <td>146</td>\n",
       "      <td>...</td>\n",
       "      <td>False</td>\n",
       "      <td>1565749966</td>\n",
       "      <td>2019-08-14 02:32:46</td>\n",
       "      <td>1077</td>\n",
       "      <td>35.900000</td>\n",
       "      <td>2.991667</td>\n",
       "      <td>2-5 tahun</td>\n",
       "      <td>https://shopee.co.id/nymnputriayu</td>\n",
       "      <td>None</td>\n",
       "      <td>1</td>\n",
       "    </tr>\n",
       "    <tr>\n",
       "      <th>3</th>\n",
       "      <td>hilmaliyah</td>\n",
       "      <td>29.shop_</td>\n",
       "      <td>KAB. BANJAR</td>\n",
       "      <td>131</td>\n",
       "      <td>&lt;500 produk</td>\n",
       "      <td>4.8</td>\n",
       "      <td>81.0</td>\n",
       "      <td>76%-90%</td>\n",
       "      <td>10440.0</td>\n",
       "      <td>941</td>\n",
       "      <td>...</td>\n",
       "      <td>False</td>\n",
       "      <td>1475889261</td>\n",
       "      <td>2016-10-08 01:14:21</td>\n",
       "      <td>2117</td>\n",
       "      <td>70.566667</td>\n",
       "      <td>5.880556</td>\n",
       "      <td>5-7 tahun</td>\n",
       "      <td>https://shopee.co.id/hilmaliyah</td>\n",
       "      <td>None</td>\n",
       "      <td>1</td>\n",
       "    </tr>\n",
       "    <tr>\n",
       "      <th>4</th>\n",
       "      <td>grosirkosmetikonlineshop</td>\n",
       "      <td>3eu2dvq930ka09mujo479ndno00t</td>\n",
       "      <td>KOTA SURABAYA</td>\n",
       "      <td>113</td>\n",
       "      <td>&lt;500 produk</td>\n",
       "      <td>4.9</td>\n",
       "      <td>8.0</td>\n",
       "      <td>&lt;10%</td>\n",
       "      <td>20062.0</td>\n",
       "      <td>1265</td>\n",
       "      <td>...</td>\n",
       "      <td>False</td>\n",
       "      <td>1604555408</td>\n",
       "      <td>2020-11-05 05:50:08</td>\n",
       "      <td>628</td>\n",
       "      <td>20.933333</td>\n",
       "      <td>1.744444</td>\n",
       "      <td>1-2 tahun</td>\n",
       "      <td>https://shopee.co.id/grosirkosmetikonlineshop</td>\n",
       "      <td>None</td>\n",
       "      <td>1</td>\n",
       "    </tr>\n",
       "    <tr>\n",
       "      <th>...</th>\n",
       "      <td>...</td>\n",
       "      <td>...</td>\n",
       "      <td>...</td>\n",
       "      <td>...</td>\n",
       "      <td>...</td>\n",
       "      <td>...</td>\n",
       "      <td>...</td>\n",
       "      <td>...</td>\n",
       "      <td>...</td>\n",
       "      <td>...</td>\n",
       "      <td>...</td>\n",
       "      <td>...</td>\n",
       "      <td>...</td>\n",
       "      <td>...</td>\n",
       "      <td>...</td>\n",
       "      <td>...</td>\n",
       "      <td>...</td>\n",
       "      <td>...</td>\n",
       "      <td>...</td>\n",
       "      <td>...</td>\n",
       "      <td>...</td>\n",
       "    </tr>\n",
       "    <tr>\n",
       "      <th>1013</th>\n",
       "      <td>yzstore29</td>\n",
       "      <td>yz store29</td>\n",
       "      <td>KOTA JAKARTA BARAT</td>\n",
       "      <td>113</td>\n",
       "      <td>&lt;500 produk</td>\n",
       "      <td>4.8</td>\n",
       "      <td>100.0</td>\n",
       "      <td>91%-100%</td>\n",
       "      <td>3259.0</td>\n",
       "      <td>65338</td>\n",
       "      <td>...</td>\n",
       "      <td>False</td>\n",
       "      <td>1547889853</td>\n",
       "      <td>2019-01-19 09:24:13</td>\n",
       "      <td>1284</td>\n",
       "      <td>42.800000</td>\n",
       "      <td>3.566667</td>\n",
       "      <td>2-5 tahun</td>\n",
       "      <td>https://shopee.co.id/yzstore29</td>\n",
       "      <td>Star Seller+</td>\n",
       "      <td>2</td>\n",
       "    </tr>\n",
       "    <tr>\n",
       "      <th>1014</th>\n",
       "      <td>zahiracenter</td>\n",
       "      <td>Zahira Center</td>\n",
       "      <td>KOTA SURABAYA</td>\n",
       "      <td>218</td>\n",
       "      <td>&lt;500 produk</td>\n",
       "      <td>4.8</td>\n",
       "      <td>89.0</td>\n",
       "      <td>76%-90%</td>\n",
       "      <td>9311.0</td>\n",
       "      <td>22973</td>\n",
       "      <td>...</td>\n",
       "      <td>False</td>\n",
       "      <td>1586679384</td>\n",
       "      <td>2020-04-12 08:16:24</td>\n",
       "      <td>835</td>\n",
       "      <td>27.833333</td>\n",
       "      <td>2.319444</td>\n",
       "      <td>2-5 tahun</td>\n",
       "      <td>https://shopee.co.id/zahiracenter</td>\n",
       "      <td>None</td>\n",
       "      <td>1</td>\n",
       "    </tr>\n",
       "    <tr>\n",
       "      <th>1015</th>\n",
       "      <td>zalfanatural_mks</td>\n",
       "      <td>Zalfa Natural Skincare</td>\n",
       "      <td>KOTA MAKASSAR</td>\n",
       "      <td>29</td>\n",
       "      <td>&lt;500 produk</td>\n",
       "      <td>4.9</td>\n",
       "      <td>66.0</td>\n",
       "      <td>51%-75%</td>\n",
       "      <td>3818.0</td>\n",
       "      <td>751</td>\n",
       "      <td>...</td>\n",
       "      <td>False</td>\n",
       "      <td>1465093371</td>\n",
       "      <td>2016-06-05 02:22:51</td>\n",
       "      <td>2242</td>\n",
       "      <td>74.733333</td>\n",
       "      <td>6.227778</td>\n",
       "      <td>5-7 tahun</td>\n",
       "      <td>https://shopee.co.id/zalfanatural_mks</td>\n",
       "      <td>Star Seller</td>\n",
       "      <td>2</td>\n",
       "    </tr>\n",
       "    <tr>\n",
       "      <th>1016</th>\n",
       "      <td>zeleshop_gb</td>\n",
       "      <td>zeleshop_gb</td>\n",
       "      <td>KOTA SURABAYA</td>\n",
       "      <td>535</td>\n",
       "      <td>501-1000 produk</td>\n",
       "      <td>4.8</td>\n",
       "      <td>66.0</td>\n",
       "      <td>51%-75%</td>\n",
       "      <td>14289.0</td>\n",
       "      <td>15631</td>\n",
       "      <td>...</td>\n",
       "      <td>False</td>\n",
       "      <td>1473500294</td>\n",
       "      <td>2016-09-10 09:38:14</td>\n",
       "      <td>2145</td>\n",
       "      <td>71.500000</td>\n",
       "      <td>5.958333</td>\n",
       "      <td>5-7 tahun</td>\n",
       "      <td>https://shopee.co.id/zeleshop_gb</td>\n",
       "      <td>Star Seller</td>\n",
       "      <td>2</td>\n",
       "    </tr>\n",
       "    <tr>\n",
       "      <th>1017</th>\n",
       "      <td>zephrys</td>\n",
       "      <td>ZEPHYRS</td>\n",
       "      <td>KOTA JAKARTA BARAT</td>\n",
       "      <td>1625</td>\n",
       "      <td>1001-2500 produk</td>\n",
       "      <td>4.7</td>\n",
       "      <td>94.0</td>\n",
       "      <td>91%-100%</td>\n",
       "      <td>7594.0</td>\n",
       "      <td>36492</td>\n",
       "      <td>...</td>\n",
       "      <td>False</td>\n",
       "      <td>1480862253</td>\n",
       "      <td>2016-12-04 14:37:33</td>\n",
       "      <td>2060</td>\n",
       "      <td>68.666667</td>\n",
       "      <td>5.722222</td>\n",
       "      <td>5-7 tahun</td>\n",
       "      <td>https://shopee.co.id/zephrys</td>\n",
       "      <td>Star Seller</td>\n",
       "      <td>2</td>\n",
       "    </tr>\n",
       "  </tbody>\n",
       "</table>\n",
       "<p>1018 rows × 26 columns</p>\n",
       "</div>"
      ],
      "text/plain": [
       "                 username_toko                     nama_toko  \\\n",
       "0                   kissmiss27                      Kissmiss   \n",
       "1                hehengplus.id                 @Nova's Store   \n",
       "2                 nymnputriayu                @rayubeauty.id   \n",
       "3                   hilmaliyah                      29.shop_   \n",
       "4     grosirkosmetikonlineshop  3eu2dvq930ka09mujo479ndno00t   \n",
       "...                        ...                           ...   \n",
       "1013                 yzstore29                    yz store29   \n",
       "1014              zahiracenter                 Zahira Center   \n",
       "1015          zalfanatural_mks        Zalfa Natural Skincare   \n",
       "1016               zeleshop_gb                   zeleshop_gb   \n",
       "1017                   zephrys                       ZEPHYRS   \n",
       "\n",
       "             lokasi_toko  jumlah_produk      range_produk  rating  \\\n",
       "0            KOTA MALANG             91       <500 produk     4.8   \n",
       "1            Luar Negeri            860   501-1000 produk     4.8   \n",
       "2          KOTA DENPASAR             17       <500 produk     4.8   \n",
       "3            KAB. BANJAR            131       <500 produk     4.8   \n",
       "4          KOTA SURABAYA            113       <500 produk     4.9   \n",
       "...                  ...            ...               ...     ...   \n",
       "1013  KOTA JAKARTA BARAT            113       <500 produk     4.8   \n",
       "1014       KOTA SURABAYA            218       <500 produk     4.8   \n",
       "1015       KOTA MAKASSAR             29       <500 produk     4.9   \n",
       "1016       KOTA SURABAYA            535   501-1000 produk     4.8   \n",
       "1017  KOTA JAKARTA BARAT           1625  1001-2500 produk     4.7   \n",
       "\n",
       "      performa_chat(%) range_chat  waktu_chat  follower  ... status_official  \\\n",
       "0                 97.0   91%-100%      3828.0      1840  ...           False   \n",
       "1                 95.0   91%-100%      1654.0     20048  ...           False   \n",
       "2                  5.0       <10%     10640.0       146  ...           False   \n",
       "3                 81.0    76%-90%     10440.0       941  ...           False   \n",
       "4                  8.0       <10%     20062.0      1265  ...           False   \n",
       "...                ...        ...         ...       ...  ...             ...   \n",
       "1013             100.0   91%-100%      3259.0     65338  ...           False   \n",
       "1014              89.0    76%-90%      9311.0     22973  ...           False   \n",
       "1015              66.0    51%-75%      3818.0       751  ...           False   \n",
       "1016              66.0    51%-75%     14289.0     15631  ...           False   \n",
       "1017              94.0   91%-100%      7594.0     36492  ...           False   \n",
       "\n",
       "       join_time           join_date  join_days  join_month  join_year  \\\n",
       "0     1524697846 2018-04-25 23:10:46       1553   51.766667   4.313889   \n",
       "1     1528293009 2018-06-06 13:50:09       1511   50.366667   4.197222   \n",
       "2     1565749966 2019-08-14 02:32:46       1077   35.900000   2.991667   \n",
       "3     1475889261 2016-10-08 01:14:21       2117   70.566667   5.880556   \n",
       "4     1604555408 2020-11-05 05:50:08        628   20.933333   1.744444   \n",
       "...          ...                 ...        ...         ...        ...   \n",
       "1013  1547889853 2019-01-19 09:24:13       1284   42.800000   3.566667   \n",
       "1014  1586679384 2020-04-12 08:16:24        835   27.833333   2.319444   \n",
       "1015  1465093371 2016-06-05 02:22:51       2242   74.733333   6.227778   \n",
       "1016  1473500294 2016-09-10 09:38:14       2145   71.500000   5.958333   \n",
       "1017  1480862253 2016-12-04 14:37:33       2060   68.666667   5.722222   \n",
       "\n",
       "      range_join                                       url_toko         Badge  \\\n",
       "0      2-5 tahun                https://shopee.co.id/kissmiss27   Star Seller   \n",
       "1      2-5 tahun             https://shopee.co.id/hehengplus.id   Star Seller   \n",
       "2      2-5 tahun              https://shopee.co.id/nymnputriayu          None   \n",
       "3      5-7 tahun                https://shopee.co.id/hilmaliyah          None   \n",
       "4      1-2 tahun  https://shopee.co.id/grosirkosmetikonlineshop          None   \n",
       "...          ...                                            ...           ...   \n",
       "1013   2-5 tahun                 https://shopee.co.id/yzstore29  Star Seller+   \n",
       "1014   2-5 tahun              https://shopee.co.id/zahiracenter          None   \n",
       "1015   5-7 tahun          https://shopee.co.id/zalfanatural_mks   Star Seller   \n",
       "1016   5-7 tahun               https://shopee.co.id/zeleshop_gb   Star Seller   \n",
       "1017   5-7 tahun                   https://shopee.co.id/zephrys   Star Seller   \n",
       "\n",
       "      Label_badge  \n",
       "0               2  \n",
       "1               2  \n",
       "2               1  \n",
       "3               1  \n",
       "4               1  \n",
       "...           ...  \n",
       "1013            2  \n",
       "1014            1  \n",
       "1015            2  \n",
       "1016            2  \n",
       "1017            2  \n",
       "\n",
       "[1018 rows x 26 columns]"
      ]
     },
     "execution_count": 19,
     "metadata": {},
     "output_type": "execute_result"
    }
   ],
   "source": [
    "df"
   ]
  },
  {
   "cell_type": "code",
   "execution_count": null,
   "metadata": {},
   "outputs": [],
   "source": [
    "df2 = df.drop(columns=['range_chat','range_follower','join_date','join_days','join_month','join_year','range_join','Badge','Label_badge'])\n",
    "df2"
   ]
  },
  {
   "cell_type": "code",
   "execution_count": null,
   "metadata": {},
   "outputs": [],
   "source": [
    "df.shape"
   ]
  },
  {
   "cell_type": "code",
   "execution_count": 7,
   "metadata": {},
   "outputs": [
    {
     "name": "stdout",
     "output_type": "stream",
     "text": [
      "<class 'pandas.core.frame.DataFrame'>\n",
      "RangeIndex: 1018 entries, 0 to 1017\n",
      "Data columns (total 26 columns):\n",
      " #   Column            Non-Null Count  Dtype         \n",
      "---  ------            --------------  -----         \n",
      " 0   username_toko     1018 non-null   object        \n",
      " 1   nama_toko         1018 non-null   object        \n",
      " 2   lokasi_toko       1018 non-null   object        \n",
      " 3   jumlah_produk     1018 non-null   int64         \n",
      " 4   range_produk      1018 non-null   object        \n",
      " 5   rating            1018 non-null   float64       \n",
      " 6   performa_chat(%)  1005 non-null   float64       \n",
      " 7   range_chat        1018 non-null   object        \n",
      " 8   waktu_chat        994 non-null    float64       \n",
      " 9   follower          1018 non-null   int64         \n",
      " 10  range_follower    1018 non-null   object        \n",
      " 11  penilaian_buruk   1018 non-null   int64         \n",
      " 12  penilaian_bagus   1018 non-null   int64         \n",
      " 13  penilaian_normal  1018 non-null   int64         \n",
      " 14  status_verified   1018 non-null   bool          \n",
      " 15  status_plus       1018 non-null   bool          \n",
      " 16  status_official   1018 non-null   bool          \n",
      " 17  join_time         1018 non-null   int64         \n",
      " 18  join_date         1018 non-null   datetime64[ns]\n",
      " 19  join_days         1018 non-null   int64         \n",
      " 20  join_month        1018 non-null   float64       \n",
      " 21  join_year         1018 non-null   float64       \n",
      " 22  range_join        1018 non-null   object        \n",
      " 23  url_toko          1018 non-null   object        \n",
      " 24  Badge             1018 non-null   object        \n",
      " 25  Label_badge       1018 non-null   int64         \n",
      "dtypes: bool(3), datetime64[ns](1), float64(5), int64(8), object(9)\n",
      "memory usage: 186.0+ KB\n"
     ]
    }
   ],
   "source": [
    "df.info()"
   ]
  },
  {
   "cell_type": "code",
   "execution_count": 8,
   "metadata": {},
   "outputs": [
    {
     "data": {
      "text/plain": [
       "False"
      ]
     },
     "execution_count": 8,
     "metadata": {},
     "output_type": "execute_result"
    }
   ],
   "source": [
    "for i in df.columns:\n",
    "    if(df[i].dtype=='float64'):\n",
    "        df[i] = df[i].fillna(df[i].mode()[0])\n",
    "flag = df.isna().sum().any()\n",
    "flag"
   ]
  },
  {
   "cell_type": "code",
   "execution_count": null,
   "metadata": {},
   "outputs": [],
   "source": [
    "df1 = df.drop(columns=['waktu_chat','range_chat','range_follower','join_date','join_time','range_join','Badge','Label_badge'])\n",
    "df1"
   ]
  },
  {
   "cell_type": "code",
   "execution_count": null,
   "metadata": {},
   "outputs": [],
   "source": [
    "count_label=df['Badge'].value_counts()\n",
    "count_label.head()"
   ]
  },
  {
   "cell_type": "code",
   "execution_count": 20,
   "metadata": {},
   "outputs": [
    {
     "data": {
      "text/plain": [
       "10001-50000 follower      268\n",
       "1001-5000 follower        183\n",
       "100001-500000 follower    177\n",
       "50001-100000 follower     107\n",
       "5001-10000 follower        97\n",
       "Name: range_follower, dtype: int64"
      ]
     },
     "execution_count": 20,
     "metadata": {},
     "output_type": "execute_result"
    }
   ],
   "source": [
    "count_label=df['range_follower'].value_counts()\n",
    "count_label.head()"
   ]
  },
  {
   "cell_type": "code",
   "execution_count": null,
   "metadata": {},
   "outputs": [],
   "source": [
    "plt.figure(figsize=(15,6))\n",
    "\n",
    "plt.subplot(1,3,1)\n",
    "sns.boxplot(df[\"jumlah_produk\"])\n",
    "plt.title(\"Jumlah Produk\\n\", fontdict={'fontsize': 20, 'fontweight' : 5, 'color' : 'Green'})\n",
    "\n",
    "plt.subplot(1,3,2)\n",
    "sns.boxplot(df[\"rating\"])\n",
    "plt.title(\"Rating\\n\", fontdict={'fontsize': 20, 'fontweight' : 5, 'color' : 'Green'})\n",
    "\n",
    "plt.subplot(1,3,3)\n",
    "sns.boxplot(df[\"performa_chat(%)\"])\n",
    "plt.title(\"Performa Chat\\n\", fontdict={'fontsize': 20, 'fontweight' : 5, 'color' : 'Green'})\n",
    "\n",
    "plt.show()"
   ]
  },
  {
   "cell_type": "code",
   "execution_count": null,
   "metadata": {},
   "outputs": [],
   "source": [
    "count_label['others']=count_label[count_label<100].sum()\n",
    "x=np.array(count_label[count_label>100].index)\n",
    "y=np.array(count_label[count_label>100].values)\n",
    "fig1, ax1 = plt.subplots(figsize=(15,7))\n",
    "colors = ['#FFD68A','#FFC55C','#FFB52E','#FFA500']\n",
    "ax1.pie(y, labels=x, startangle=90, colors=colors, radius=2000, autopct='%1.1f%%', textprops={'fontsize':12})\n",
    "ax1.axis('equal')\n",
    "plt.title(\"Proporsi Level Seller\")\n",
    "plt.show()\n",
    "plt.tight_layout()"
   ]
  },
  {
   "cell_type": "code",
   "execution_count": null,
   "metadata": {},
   "outputs": [],
   "source": [
    "count_produk=df['range_produk'].value_counts()\n",
    "count_produk.head()"
   ]
  },
  {
   "cell_type": "code",
   "execution_count": null,
   "metadata": {},
   "outputs": [],
   "source": [
    "count_produk['range_produk']=count_produk[count_produk<27].sum()\n",
    "a=np.array(count_produk[count_produk>20].index)\n",
    "b=np.array(count_produk[count_produk>20].values)\n",
    "fig2, ax2 = plt.subplots(figsize=(15,7))\n",
    "colors = ['#FFD68A','#FFC55C','#FFB52E','#FFA500']\n",
    "ax2.pie(b, labels=a, autopct='%1.1f%%', colors=colors, radius=2000, startangle=90, textprops={'fontsize':12})\n",
    "ax2.axis('equal')\n",
    "plt.title(\"Proporsi Jumlah Produk\")\n",
    "plt.show()"
   ]
  },
  {
   "cell_type": "code",
   "execution_count": null,
   "metadata": {},
   "outputs": [],
   "source": [
    "count_chat=df['range_chat'].value_counts()\n",
    "c=np.array(count_chat[count_chat>0].index)\n",
    "d=np.array(count_chat[count_chat>0].values)\n",
    "colors=['#FFD68A','#FFC55C','#FFB52E','#FFA500','#D18700','#A36A00']\n",
    "fig3, ax3 = plt.subplots(figsize=(15,7))\n",
    "ax3.pie(d, labels=c, autopct='%1.1f%%', colors=colors, radius=2000, startangle=270, textprops={'fontsize':12})\n",
    "ax3.axis('equal')\n",
    "plt.title(\"Proporsi Performa Chat Seller\")\n",
    "plt.show()"
   ]
  },
  {
   "cell_type": "code",
   "execution_count": null,
   "metadata": {
    "scrolled": true
   },
   "outputs": [],
   "source": [
    "count_chat.head()"
   ]
  },
  {
   "cell_type": "code",
   "execution_count": 13,
   "metadata": {},
   "outputs": [
    {
     "data": {
      "image/png": "[encoded data removed]",
      "text/plain": [
       "<Figure size 432x288 with 1 Axes>"
      ]
     },
     "metadata": {},
     "output_type": "display_data"
    }
   ],
   "source": [
    "customPalette = sns.set_palette(sns.color_palette(colors))\n",
    "ax = sns.countplot(x='range_follower', data=df, palette='Oranges')\n",
    "ax.set_title('Proporsi Jumlah Follower', fontweight = 'bold')\n",
    "for rect in ax.patches:\n",
    "    ax.text(rect.get_x() + rect.get_width() /2,rect.get_height()+1,rect.get_height(), horizontalalignment = 'center', fontsize = 11) "
   ]
  },
  {
   "cell_type": "code",
   "execution_count": null,
   "metadata": {},
   "outputs": [],
   "source": [
    "customPalette = sns.set_palette(sns.color_palette(colors))\n",
    "ax = sns.countplot(x='range_chat', data=df, palette='Oranges')\n",
    "ax.set_title('Performa Chat Seller', fontweight = 'bold')\n",
    "for rect in ax.patches:\n",
    "    ax.text(rect.get_x() + rect.get_width() /2,rect.get_height()+1,rect.get_height(), horizontalalignment = 'center', fontsize = 11) "
   ]
  },
  {
   "cell_type": "code",
   "execution_count": 21,
   "metadata": {},
   "outputs": [
    {
     "data": {
      "image/png": "[encoded data removed]",
      "text/plain": [
       "<Figure size 1080x504 with 1 Axes>"
      ]
     },
     "metadata": {},
     "output_type": "display_data"
    }
   ],
   "source": [
    "count_follower=df['range_follower'].value_counts()\n",
    "e=np.array(count_follower[count_follower>0].index)\n",
    "f=np.array(count_follower[count_follower>0].values)\n",
    "fig4, ax4 = plt.subplots(figsize=(15,7))\n",
    "colors = ['#FFD68A','#FFC55C','#FFB52E','#FFA500','#D18700','#A36A00','#754C00','#FFA500','#FF9138']\n",
    "ax4.pie(f, labels=e, autopct='%1.1f%%', colors=colors, radius=2000, startangle=270, wedgeprops = { 'linewidth' : 3, 'edgecolor' : 'white'}, textprops={'fontsize':12})\n",
    "ax4.axis('equal')\n",
    "plt.title(\"Proporsi Follower\")\n",
    "\n",
    "plt.show()"
   ]
  },
  {
   "cell_type": "code",
   "execution_count": 16,
   "metadata": {},
   "outputs": [
    {
     "data": {
      "image/png": "[encoded data removed]",
      "text/plain": [
       "<Figure size 1080x504 with 1 Axes>"
      ]
     },
     "metadata": {},
     "output_type": "display_data"
    }
   ],
   "source": [
    "count_rating=df['rating'].value_counts()\n",
    "o=np.array(count_rating[count_rating>0].index)\n",
    "p=np.array(count_rating[count_rating>0].values)\n",
    "fig6, ax6 = plt.subplots(figsize=(15,7))\n",
    "colors = ['#FFD68A','#FFC55C','#FFB52E','#FFA500','#D18700','#A36A00','#754C00','#FFA500','#FF9138']\n",
    "ax6.pie(p, labels=o, autopct='%1.1f%%', colors=colors, radius=2000, startangle=270, wedgeprops = { 'linewidth' : 3, 'edgecolor' : 'white'}, textprops={'fontsize':12})\n",
    "ax6.axis('equal')\n",
    "plt.title(\"Proporsi Rating Seller\")\n",
    "\n",
    "plt.show()"
   ]
  },
  {
   "cell_type": "code",
   "execution_count": null,
   "metadata": {},
   "outputs": [],
   "source": [
    "count_join=df['range_join'].value_counts()\n",
    "g=np.array(count_join[count_join>0].index)\n",
    "h=np.array(count_join[count_join>0].values)\n",
    "colors = ['#FFD68A','#FFC55C','#FFB52E','#FFA500']\n",
    "fig5, ax5 = plt.subplots(figsize=(15,7))\n",
    "ax5.pie(h, labels=g, autopct='%1.1f%%', colors=colors, shadow=True, radius=2000, startangle=270, textprops={'fontsize':12} )\n",
    "ax5.axis('equal')\n",
    "plt.title(\"Proporsi Waktu Kapan Seller Mulai Bergabung\")\n",
    "plt.legend(g)\n",
    "\n",
    "plt.show()"
   ]
  },
  {
   "cell_type": "code",
   "execution_count": null,
   "metadata": {},
   "outputs": [],
   "source": [
    "sns.set(font_scale=1.2)\n",
    "df['rating'].value_counts().plot(kind='bar', figsize=(7, 6), rot=0)\n",
    "plt.xlabel(\"Range Rating\", labelpad=12)\n",
    "plt.ylabel(\"Frekuensi\", labelpad=12)\n",
    "plt.title(\"Frekuensi Rating Produk Shopee\", y=1.02)\n"
   ]
  },
  {
   "cell_type": "code",
   "execution_count": null,
   "metadata": {},
   "outputs": [],
   "source": [
    "colors =[\"#FF0B04\", \"#4374B3\"]\n",
    "customPalette = sns.set_palette(sns.color_palette(colors))\n",
    "ax = sns.countplot(x='rating', data=df, palette='Oranges')\n",
    "ax.set_title('Total Rating Seller', fontweight = 'bold')\n",
    "for rect in ax.patches:\n",
    "    ax.text(rect.get_x() + rect.get_width() /2,rect.get_height()+1,rect.get_height(), horizontalalignment = 'center', fontsize = 11) "
   ]
  },
  {
   "cell_type": "code",
   "execution_count": null,
   "metadata": {},
   "outputs": [],
   "source": [
    "plt.figure(figsize=(8,8))\n",
    "plt.scatter(df['rating'], df['performa_chat(%)'])\n",
    "plt.xlabel('Rating')\n",
    "plt.ylabel('Performa Chat')\n",
    "plt.show()"
   ]
  },
  {
   "cell_type": "code",
   "execution_count": null,
   "metadata": {},
   "outputs": [],
   "source": [
    "df[['rating', 'performa_chat(%)']].corr()"
   ]
  },
  {
   "cell_type": "code",
   "execution_count": null,
   "metadata": {},
   "outputs": [],
   "source": [
    "sns.lmplot(x='rating', y='performa_chat(%)', data=df, fit_reg= True, height=7)\n",
    "plt.show()"
   ]
  },
  {
   "cell_type": "code",
   "execution_count": null,
   "metadata": {},
   "outputs": [],
   "source": [
    "plt.figure(figsize=(6,4))\n",
    "sns.heatmap(df.corr(),cmap='Blues',annot=False) "
   ]
  },
  {
   "cell_type": "code",
   "execution_count": null,
   "metadata": {},
   "outputs": [],
   "source": [
    "#Quality correlation matrix\n",
    "k = 16 #number of variables for heatmap\n",
    "cols = df.corr().nlargest(k, 'jumlah_produk')['jumlah_produk'].index\n",
    "cm = df[cols].corr()\n",
    "plt.figure(figsize=(10,6))\n",
    "sns.heatmap(cm, annot=True, cmap = 'viridis')"
   ]
  },
  {
   "cell_type": "code",
   "execution_count": null,
   "metadata": {},
   "outputs": [],
   "source": [
    "color = sns.color_palette()\n",
    "prod_orders = df['lokasi_toko'].value_counts().sort_values(ascending=False)\n",
    "plt.subplots(figsize=(18,21))\n",
    "prod_orders.plot(kind='barh', fontsize=12, color=color[1])\n",
    "plt.xlabel('Jumlah Seller', fontsize=12)\n",
    "plt.ylabel('Kota', fontsize=12)\n",
    "plt.title('Jumlah Seller Tiap Kota', fontsize=12)\n",
    "plt.show()"
   ]
  },
  {
   "cell_type": "code",
   "execution_count": null,
   "metadata": {},
   "outputs": [],
   "source": [
    "prod_orders.head(10)"
   ]
  },
  {
   "cell_type": "code",
   "execution_count": null,
   "metadata": {},
   "outputs": [],
   "source": [
    "color = sns.color_palette()\n",
    "color"
   ]
  },
  {
   "cell_type": "code",
   "execution_count": null,
   "metadata": {},
   "outputs": [],
   "source": [
    "color = sns.color_palette()\n",
    "prod_orders = df['lokasi_toko'].value_counts().sort_values(ascending=True)\n",
    "plt.subplots(figsize=(18,21))\n",
    "prod_orders.plot(kind='barh', fontsize=12, color=color[0])\n",
    "plt.xlabel('Jumlah Seller', fontsize=12)\n",
    "plt.ylabel('Kota', fontsize=12)\n",
    "plt.title('Jumlah Seller Tiap Kota', fontsize=12)\n",
    "plt.show()"
   ]
  },
  {
   "cell_type": "code",
   "execution_count": null,
   "metadata": {},
   "outputs": [],
   "source": []
  },
  {
   "cell_type": "code",
   "execution_count": null,
   "metadata": {},
   "outputs": [],
   "source": [
    "ax = sns.barplot(x='lokasi', y='count'\n",
    "                   , data=lokasi)\n",
    "for rect in ax.patches:\n",
    "    ax.text(rect.get_x() + rect.get_width() /2,rect.get_height()+1,rect.get_height(), horizontalalignment = 'center', fontsize = 11) \n"
   ]
  },
  {
   "cell_type": "code",
   "execution_count": null,
   "metadata": {},
   "outputs": [],
   "source": [
    "cols_val=2\n",
    "fig, ax = plt.subplots(len(num_cols),cols_val,figsize=(12, 5))\n",
    "sns.boxplot(df[col],ax=ax[i,j],color=colours_val[i+j])"
   ]
  },
  {
   "cell_type": "code",
   "execution_count": null,
   "metadata": {},
   "outputs": [],
   "source": [
    "locplot.plot(kind='bar', figsize=(8,8))"
   ]
  },
  {
   "cell_type": "code",
   "execution_count": null,
   "metadata": {},
   "outputs": [],
   "source": [
    "cols_val=2\n",
    "fig, ax = plt.subplots(len(df['jumlah_prod']),cols_val,figsize=(12, 5))\n",
    "sns.boxplot(df['jumlah_prod'],ax=ax,color=cols_val)"
   ]
  },
  {
   "cell_type": "code",
   "execution_count": null,
   "metadata": {},
   "outputs": [],
   "source": [
    "locplot"
   ]
  },
  {
   "cell_type": "code",
   "execution_count": null,
   "metadata": {},
   "outputs": [],
   "source": [
    "new_df = df[[\"rating\", \"performa_chat\",\"Label_badge\"]]\n",
    "new_df.describe().round()"
   ]
  }
 ],
 "metadata": {
  "kernelspec": {
   "display_name": "Python 3 (ipykernel)",
   "language": "python",
   "name": "python3"
  },
  "language_info": {
   "codemirror_mode": {
    "name": "ipython",
    "version": 3
   },
   "file_extension": ".py",
   "mimetype": "text/x-python",
   "name": "python",
   "nbconvert_exporter": "python",
   "pygments_lexer": "ipython3",
   "version": "3.9.12"
  }
 },
 "nbformat": 4,
 "nbformat_minor": 4
}
